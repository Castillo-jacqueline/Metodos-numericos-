{
  "nbformat": 4,
  "nbformat_minor": 0,
  "metadata": {
    "colab": {
      "provenance": [],
      "authorship_tag": "ABX9TyP0F/kKZvQY43oLvOpUOjvV",
      "include_colab_link": true
    },
    "kernelspec": {
      "name": "python3",
      "display_name": "Python 3"
    },
    "language_info": {
      "name": "python"
    }
  },
  "cells": [
    {
      "cell_type": "markdown",
      "metadata": {
        "id": "view-in-github",
        "colab_type": "text"
      },
      "source": [
        "<a href=\"https://colab.research.google.com/github/Castillo-jacqueline/Metodos-numericos-/blob/main/Hermmite.ipynb\" target=\"_parent\"><img src=\"https://colab.research.google.com/assets/colab-badge.svg\" alt=\"Open In Colab\"/></a>"
      ]
    },
    {
      "cell_type": "code",
      "execution_count": 8,
      "metadata": {
        "id": "Hwn52yoZ9T7o"
      },
      "outputs": [],
      "source": [
        "\n",
        "#Ocuparemos la librería de python\n",
        "import numpy as np"
      ]
    },
    {
      "cell_type": "code",
      "source": [
        "#Definimos las funciones\n",
        "def hermite_interpolation(x, f, f_prime):\n",
        "    n = len(x)\n",
        "    z = np.zeros(2 * n)\n",
        "    Q = np.zeros((2 * n, 2 * n))\n",
        "\n",
        "#Inicializar z y Q\n",
        "    for i in range(n):\n",
        "        z[2 * i] = x[i]\n",
        "        z[2 * i + 1] = x[i]\n",
        "        Q[2 * i][0] = f[i]\n",
        "        Q[2 * i + 1][0] = f[i]\n",
        "        Q[2 * i + 1][1] = f_prime[i]\n",
        "        if i != 0:\n",
        "            Q[2 * i][1] = (Q[2 * i][0] - Q[2 * i - 1][0]) / (z[2 * i] - z[2 * i - 1])\n",
        "\n",
        "#Calcular las diferencias divididas\n",
        "    for i in range(2, 2 * n):\n",
        "        for j in range(2, i + 1):\n",
        "            Q[i][j] = (Q[i][j - 1] - Q[i - 1][j - 1]) / (z[i] - z[i - j])\n",
        "\n",
        "#Devolvemos los coeficientes de Q\n",
        "    return z, Q\n",
        "\n",
        "def evaluate_polynomial(z, Q, x_value):\n",
        "    n = len(z)\n",
        "    result = Q[0][0]\n",
        "    product = 1.0\n",
        "    for i in range(1, n):\n",
        "        product *= (x_value - z[i - 1])\n",
        "        result += Q[i][i] * product\n",
        "    return result"
      ],
      "metadata": {
        "id": "splyuFqJ9mqd"
      },
      "execution_count": 9,
      "outputs": []
    },
    {
      "cell_type": "code",
      "source": [
        "# Datos de la tabla\n",
        "x = [1.3, 1.6, 1.9]\n",
        "f = [0.620860, 0.4554022, 0.2818186]\n",
        "f_prime = [-0.5220232, -0.5698959, -0.5811571]\n",
        "\n",
        "# Calcular el polinomio de Hermite\n",
        "z, Q = hermite_interpolation(x, f, f_prime)\n",
        "\n",
        "# Evaluar el polinomio en x = 1.5\n",
        "x_value = 1.5\n",
        "approximation = evaluate_polynomial(z, Q, x_value)\n",
        "\n",
        "# Resultados\n",
        "print(\"z:\", z)\n",
        "print(\"Tabla Q:\")\n",
        "print(Q)\n",
        "print(f\"El valor aproximado de f({x_value}) es {approximation}\")"
      ],
      "metadata": {
        "colab": {
          "base_uri": "https://localhost:8080/"
        },
        "id": "wn0Of1u09u3R",
        "outputId": "bda0dc88-b318-448f-87c8-e31e78444a67"
      },
      "execution_count": 7,
      "outputs": [
        {
          "output_type": "stream",
          "name": "stdout",
          "text": [
            "z: [1.3 1.3 1.6 1.6 1.9 1.9]\n",
            "Tabla Q:\n",
            "[[ 0.62086     0.          0.          0.          0.          0.        ]\n",
            " [ 0.62086    -0.5220232   0.          0.          0.          0.        ]\n",
            " [ 0.4554022  -0.551526   -0.09834267  0.          0.          0.        ]\n",
            " [ 0.4554022  -0.5698959  -0.061233    0.12369889  0.          0.        ]\n",
            " [ 0.2818186  -0.578612   -0.02905367  0.05363222 -0.11677778  0.        ]\n",
            " [ 0.2818186  -0.5811571  -0.00848367  0.06856667  0.02489074  0.2361142 ]]\n",
            "El valor aproximado de f(1.5) es 0.5119423683950619\n"
          ]
        }
      ]
    }
  ]
}