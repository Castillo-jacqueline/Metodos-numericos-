{
  "nbformat": 4,
  "nbformat_minor": 0,
  "metadata": {
    "colab": {
      "provenance": [],
      "authorship_tag": "ABX9TyOOvMSs2bQmWEX01g0i0J3Q",
      "include_colab_link": true
    },
    "kernelspec": {
      "name": "python3",
      "display_name": "Python 3"
    },
    "language_info": {
      "name": "python"
    }
  },
  "cells": [
    {
      "cell_type": "markdown",
      "metadata": {
        "id": "view-in-github",
        "colab_type": "text"
      },
      "source": [
        "<a href=\"https://colab.research.google.com/github/Castillo-jacqueline/Metodos-numericos-/blob/main/Steffensen.ipynb\" target=\"_parent\"><img src=\"https://colab.research.google.com/assets/colab-badge.svg\" alt=\"Open In Colab\"/></a>"
      ]
    },
    {
      "cell_type": "code",
      "execution_count": 1,
      "metadata": {
        "colab": {
          "base_uri": "https://localhost:8080/"
        },
        "id": "ZVNh-Gp39XQI",
        "outputId": "63b41aa8-073c-4cc4-9ff5-19c8c49cd605"
      },
      "outputs": [
        {
          "output_type": "stream",
          "name": "stdout",
          "text": [
            "Método Híbrido:\n",
            "Intentando con valor inicial: 0.00\n",
            "Raíz encontrada: 1.52569\n"
          ]
        }
      ],
      "source": [
        "import math\n",
        "\n",
        "# Definimos la función f(x) de la ecuación\n",
        "def f(x):\n",
        "    return math.cos(x) - 2 * x + 3\n",
        "\n",
        "def df(x):\n",
        "    return -math.sin(x) - 2  # Derivada de f(x)\n",
        "\n",
        "# Implementación del método híbrido\n",
        "def hybrid_method(x0, tol=1e-5, max_iter=1000):\n",
        "    for i in range(max_iter):\n",
        "        # Paso 1: Usar Newton-Raphson para una mejor estimación\n",
        "        fx0 = f(x0)\n",
        "        dfx0 = df(x0)\n",
        "\n",
        "        if abs(dfx0) < 1e-10:  # Evitar división por cero\n",
        "            print(\"Derivada muy pequeña, posible división por cero.\")\n",
        "            return None\n",
        "\n",
        "        x1 = x0 - fx0 / dfx0  # Estimación mejorada\n",
        "\n",
        "        # Paso 2: Usar Steffensen a partir de x1\n",
        "        for j in range(max_iter):\n",
        "            fx1 = f(x1)\n",
        "            x2 = x1 + fx1\n",
        "            fx2 = f(x2)\n",
        "\n",
        "            denominator = fx2 - 2 * fx1 + fx0\n",
        "            if abs(denominator) < 1e-6:\n",
        "                print(f\"Posible división por cero o desbordamiento detectado en iteración {j}.\")\n",
        "                return None\n",
        "\n",
        "            x_next = x1 - (fx1 ** 2) / denominator\n",
        "\n",
        "            # Verificamos la precisión alcanzada\n",
        "            if abs(x_next - x1) < tol:\n",
        "                return x_next\n",
        "\n",
        "            x1 = x_next\n",
        "\n",
        "        # Actualizamos x0 para la próxima iteración\n",
        "        x0 = x1\n",
        "\n",
        "    print(\"No se alcanzó la convergencia.\")\n",
        "    return None\n",
        "\n",
        "# Rango para probar valores iniciales\n",
        "start = 0.0  # inicio del rango\n",
        "end = 2.0    # fin del rango\n",
        "step = 0.01  # tamaño del paso\n",
        "\n",
        "root_hybrid = None\n",
        "\n",
        "# Usamos el método híbrido en un rango con pasos\n",
        "print(\"Método Híbrido:\")\n",
        "x0 = start\n",
        "while x0 <= end:\n",
        "    print(f\"Intentando con valor inicial: {x0:.2f}\")\n",
        "    root_hybrid = hybrid_method(x0)\n",
        "    if root_hybrid is not None:\n",
        "        print(f\"Raíz encontrada: {root_hybrid:.5f}\")\n",
        "        break\n",
        "    x0 += step\n",
        "\n",
        "if root_hybrid is None:\n",
        "    print(\"No se encontró una raíz con los valores iniciales probados.\")"
      ]
    }
  ]
}