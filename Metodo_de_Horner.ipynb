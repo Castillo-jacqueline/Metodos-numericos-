{
  "nbformat": 4,
  "nbformat_minor": 0,
  "metadata": {
    "colab": {
      "provenance": [],
      "authorship_tag": "ABX9TyPJw4TrA1vTWkISTS1fOG0a",
      "include_colab_link": true
    },
    "kernelspec": {
      "name": "python3",
      "display_name": "Python 3"
    },
    "language_info": {
      "name": "python"
    }
  },
  "cells": [
    {
      "cell_type": "markdown",
      "metadata": {
        "id": "view-in-github",
        "colab_type": "text"
      },
      "source": [
        "<a href=\"https://colab.research.google.com/github/Castillo-jacqueline/Metodos-numericos-/blob/main/Metodo_de_Horner.ipynb\" target=\"_parent\"><img src=\"https://colab.research.google.com/assets/colab-badge.svg\" alt=\"Open In Colab\"/></a>"
      ]
    },
    {
      "cell_type": "code",
      "execution_count": 2,
      "metadata": {
        "id": "T1MsaGHnpKy5"
      },
      "outputs": [],
      "source": [
        "#Aplicamos la libreria necesaria de python\n",
        "from math import *\n",
        "import numpy as np\n",
        "import matplotlib . pyplot as plt"
      ]
    },
    {
      "cell_type": "code",
      "source": [
        "#definimos la funcion\n",
        "def operacion (p, x0):\n",
        "  r = p[0] # Comenzamos con el coeficiente del grado más grande\n",
        "  dr= 0 # La primera derivada es 0\n",
        "\n",
        "  for i in range (1, len(p)):\n",
        "   dr =  dr * x0 + r\n",
        "    # Hacemos los calculos de la derivad\n",
        "   r  = r * x0 + p[i]\n",
        "  return r , dr #Devolvemos el polinomio y su derivada"
      ],
      "metadata": {
        "id": "uGs4WqmRroJU"
      },
      "execution_count": 3,
      "outputs": []
    },
    {
      "cell_type": "code",
      "source": [
        "def newton (p, x0, tol=1e-6, nmax=100):\n",
        "  for i in range (nmax):\n",
        "      r , dr = operacion (p,x0)\n",
        "\n",
        "      if abs (r) < tol:\n",
        "        #devolvemos el valor que encontramos de la raiz\n",
        "         return x0\n",
        "\n",
        "      if dr  ==0:\n",
        "       print (\"No se puede continuar; ya que la derivada es cero\")\n",
        "       return None # Aplicamos la restriccion de la división entre cero\n",
        "  # Método de Newton\n",
        "      x0 = x0 - r /dr\n",
        "      print (\"Iteraciones maximas  alcanzado\")\n",
        "      return x0"
      ],
      "metadata": {
        "id": "3R74rywbtDBO"
      },
      "execution_count": 4,
      "outputs": []
    },
    {
      "cell_type": "code",
      "source": [
        "# Aplicamos los coeficentes del polinomio P(x)=2x^4- 3x^2 + 3x - 4\n",
        "coef = [2, 0, -3, 3, -4]"
      ],
      "metadata": {
        "id": "u7jcqNvat1jC"
      },
      "execution_count": 5,
      "outputs": []
    },
    {
      "cell_type": "code",
      "source": [
        "# Usando el método de Horner\n",
        "x0 = -2\n",
        "poli, d = operacion (coef, x0)\n",
        "\n",
        "print(f\"Valor del polinomio en x0 = {x0}: {poli}\")\n",
        "print(f\"Valor de la derivada en x0 = {x0}: {d}\")"
      ],
      "metadata": {
        "colab": {
          "base_uri": "https://localhost:8080/"
        },
        "id": "pWj-KmMvt-my",
        "outputId": "92bf4d0d-b63b-4749-c03e-865646aa513e"
      },
      "execution_count": 6,
      "outputs": [
        {
          "output_type": "stream",
          "name": "stdout",
          "text": [
            "Valor del polinomio en x0 = -2: 10\n",
            "Valor de la derivada en x0 = -2: -49\n"
          ]
        }
      ]
    },
    {
      "cell_type": "code",
      "source": [
        "# mandamos a imprimir el método de Newton\n",
        "raiz = newton(coef, x0)\n",
        "print(f\"Raíz aproximada del polinomio: {raiz}\")"
      ],
      "metadata": {
        "colab": {
          "base_uri": "https://localhost:8080/"
        },
        "id": "VgAwR0EyuKEp",
        "outputId": "8ea0e970-07e4-47b0-dd0c-82713cf136e2"
      },
      "execution_count": 7,
      "outputs": [
        {
          "output_type": "stream",
          "name": "stdout",
          "text": [
            "Número máximo de iteraciones alcanzado\n",
            "Raíz aproximada del polinomio: -1.7959183673469388\n"
          ]
        }
      ]
    }
  ]
}