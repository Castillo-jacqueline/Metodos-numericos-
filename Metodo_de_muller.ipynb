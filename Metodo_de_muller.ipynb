{
  "nbformat": 4,
  "nbformat_minor": 0,
  "metadata": {
    "colab": {
      "provenance": [],
      "authorship_tag": "ABX9TyMObxe59CKQM5emWYR2etCM",
      "include_colab_link": true
    },
    "kernelspec": {
      "name": "python3",
      "display_name": "Python 3"
    },
    "language_info": {
      "name": "python"
    }
  },
  "cells": [
    {
      "cell_type": "markdown",
      "metadata": {
        "id": "view-in-github",
        "colab_type": "text"
      },
      "source": [
        "<a href=\"https://colab.research.google.com/github/Castillo-jacqueline/Metodos-numericos-/blob/main/Metodo_de_muller.ipynb\" target=\"_parent\"><img src=\"https://colab.research.google.com/assets/colab-badge.svg\" alt=\"Open In Colab\"/></a>"
      ]
    },
    {
      "cell_type": "code",
      "execution_count": 31,
      "metadata": {
        "id": "YHBEVjiR_KTL"
      },
      "outputs": [],
      "source": [
        "\n",
        "#Agregamos la librería de python\n",
        "from decimal import Decimal, getcontext\n",
        "import cmath"
      ]
    },
    {
      "cell_type": "code",
      "source": [
        "# Configuramos la  precisión decimal\n",
        "getcontext().prec = 50\n",
        "#definimos el teorema\n",
        "def muller(f, x0, x1, x2, tol=Decimal('1e-15'), max_iter=1000):\n",
        "    x0, x1, x2 = complex(x0), complex(x1), complex(x2)\n",
        "#Agregamos el ciclo para especificaciones concretas\n",
        "    for _ in range(max_iter):\n",
        "        h1 = x1 - x0\n",
        "        h2 = x2 - x1\n",
        "        δ1 = (f(x1) - f(x0)) / h1\n",
        "        δ2 = (f(x2) - f(x1)) / h2\n",
        "#Ponemos la restricción de la división\n",
        "        d = (δ2 - δ1) / (h2 + h1) if (h2 + h1) != 0 else 0\n",
        "\n",
        "        b = δ2 + h2 * d\n",
        "        D = cmath.sqrt(b**2 - 4 * f(x2) * d)\n",
        "\n",
        "        if abs(b - D) < abs(b + D):\n",
        "            E = b + D\n",
        "        else:\n",
        "            E = b - D\n",
        "\n",
        "        h = -2 * f(x2) / E\n",
        "        x3 = x2 + h\n",
        "\n",
        "        if abs(h) < tol:\n",
        "            return x3\n",
        "\n",
        "        x0, x1, x2 = x1, x2, x3\n",
        "\n",
        "    return None"
      ],
      "metadata": {
        "id": "2yFXSUI1_hoA"
      },
      "execution_count": 26,
      "outputs": []
    },
    {
      "cell_type": "code",
      "source": [],
      "metadata": {
        "id": "DOhnaVj_DoAU"
      },
      "execution_count": null,
      "outputs": []
    },
    {
      "cell_type": "code",
      "source": [
        "def ds(coeffs, root):\n",
        "    new_coeffs = []\n",
        "    remainder = coeffs[0]\n",
        "    new_coeffs.append(remainder)\n",
        "\n",
        "    for i in range(1, len(coeffs) - 1):\n",
        "        remainder = remainder * root + coeffs[i]\n",
        "        new_coeffs.append(remainder)\n",
        "\n",
        "    return new_coeffs, remainder * root + coeffs[-1]\n",
        "\n",
        "def funcion(coeffs):\n",
        "    def f(x):\n",
        "        result = 0\n",
        "        for i, coeff in enumerate(coeffs):\n",
        "            result += coeff * (x ** (len(coeffs) - i - 1))\n",
        "        return result\n",
        "    return f"
      ],
      "metadata": {
        "id": "nS-Xd3qV_tOe"
      },
      "execution_count": 27,
      "outputs": []
    },
    {
      "cell_type": "code",
      "source": [
        "#Nuestro polinomio a probar sera 1x^3 - 6x^2 + 11x -6\n",
        "coeffs = [1, -6, 11, -6]"
      ],
      "metadata": {
        "id": "OWJBJCAk_1BA"
      },
      "execution_count": 28,
      "outputs": []
    },
    {
      "cell_type": "code",
      "source": [
        "#Buscaremos las raíces\n",
        "roots = []\n",
        "#Proporcionamos el grado del polinomio\n",
        "for _ in range(3):\n",
        "#Indicamos el valor lejano\n",
        "    x0 = Decimal('0')\n",
        "#Valores iniciales\n",
        "    x1 = Decimal('2')\n",
        "    x2 = Decimal('4')\n",
        "\n",
        "\n",
        "    f = funcion(coeffs)\n",
        "\n",
        "    root = muller(f, x0, x1, x2)\n",
        "    roots.append(root)\n",
        "\n",
        "    # Ralizamos la divion del polinomio por (x - raíz)\n",
        "    coeffs, _ = ds(coeffs, root)\n",
        "\n",
        "print(\"Las raíces del polinomio encontradas son:\")\n",
        "for r in roots:\n",
        "    print(r)"
      ],
      "metadata": {
        "colab": {
          "base_uri": "https://localhost:8080/"
        },
        "id": "qa59J7G3_8jc",
        "outputId": "b877f4c9-ac96-44e1-9af5-ab32613f9207"
      },
      "execution_count": 29,
      "outputs": [
        {
          "output_type": "stream",
          "name": "stdout",
          "text": [
            "Las raíces del polinomio encontradas son:\n",
            "(2+0j)\n",
            "(3+0j)\n",
            "(1+0j)\n"
          ]
        }
      ]
    },
    {
      "cell_type": "markdown",
      "source": [
        "Hecho por Castillo Zaragoza Ximena Jacqueline"
      ],
      "metadata": {
        "id": "r1touaHhDXUB"
      }
    }
  ]
}