{
  "nbformat": 4,
  "nbformat_minor": 0,
  "metadata": {
    "colab": {
      "provenance": [],
      "authorship_tag": "ABX9TyMpViYj2glmXojQH+1vGiva",
      "include_colab_link": true
    },
    "kernelspec": {
      "name": "python3",
      "display_name": "Python 3"
    },
    "language_info": {
      "name": "python"
    }
  },
  "cells": [
    {
      "cell_type": "markdown",
      "metadata": {
        "id": "view-in-github",
        "colab_type": "text"
      },
      "source": [
        "<a href=\"https://colab.research.google.com/github/Castillo-jacqueline/Metodos-numericos-/blob/main/Pivoteo_Parcial.ipynb\" target=\"_parent\"><img src=\"https://colab.research.google.com/assets/colab-badge.svg\" alt=\"Open In Colab\"/></a>"
      ]
    },
    {
      "cell_type": "code",
      "source": [
        "\n",
        "#Utilizamos la librería\n",
        "import numpy as np"
      ],
      "metadata": {
        "id": "dUwM88hu2Rt1"
      },
      "execution_count": 10,
      "outputs": []
    },
    {
      "cell_type": "code",
      "execution_count": 11,
      "metadata": {
        "id": "H0lzx0gTxJgX"
      },
      "outputs": [],
      "source": [
        "\n",
        "\n",
        "# Definir la matriz aumentada del sistema\n",
        "A = np.array([\n",
        "    [0.003, 59.14, 59.17],  # E1: 0.003x1 + 59.14x2 = 59.17\n",
        "    [5.291, -6.13, 46.78]   # E2: 5.291x1 - 6.13x2 = 46.78\n",
        "], dtype=float)\n",
        "\n",
        "# Función para aplicar eliminación gaussiana con pivoteo parcial\n",
        "def gauss_elimination_pivot(A):\n",
        "    n = len(A)\n",
        "    for i in range(n):\n",
        "        # Pivoteo parcial (buscar el máximo valor absoluto en la columna i)\n",
        "        max_row = i + np.argmax(np.abs(A[i:, i]))\n",
        "        A[[i, max_row]] = A[[max_row, i]]  # Intercambio de filas\n",
        "\n",
        "        # Normalizar la fila del pivote\n",
        "        pivot = A[i, i]\n",
        "        if pivot == 0:\n",
        "            raise ValueError(\"El sistema no tiene solución única.\")\n",
        "        A[i] = A[i] / pivot\n",
        "\n",
        "        # Eliminación hacia adelante\n",
        "        for j in range(i + 1, n):\n",
        "            factor = A[j, i]\n",
        "            A[j] -= factor * A[i]\n",
        "\n",
        "    return A\n",
        "\n",
        "# Función para realizar la sustitución hacia atrás\n",
        "def back_substitution(A):\n",
        "    n = len(A)\n",
        "    x = np.zeros(n)\n",
        "# Sustitución hacia atrás desde la última fila\n",
        "    for i in range(n-1, -1, -1):\n",
        "        x[i] = A[i, -1] - np.sum(A[i, i+1:-1] * x[i+1:])\n",
        "\n",
        "    return x\n",
        "\n",
        "# Ejecutar la eliminación gaussiana con pivoteo\n",
        "A_gauss = gauss_elimination_pivot(A)\n",
        "\n",
        "# Realizar la sustitución hacia atrás\n",
        "sol = back_substitution(A_gauss)"
      ]
    },
    {
      "cell_type": "code",
      "source": [
        "# Imprimir resultados\n",
        "print(\"Soluciones del sistema:\")\n",
        "for i, val in enumerate(sol):\n",
        "    print(f\"x{i+1} = {val:.4f}\")"
      ],
      "metadata": {
        "colab": {
          "base_uri": "https://localhost:8080/"
        },
        "id": "ghoRWAHD2hwC",
        "outputId": "8dfb5a58-4de6-4f41-c73e-3e69f21543a5"
      },
      "execution_count": 9,
      "outputs": [
        {
          "output_type": "stream",
          "name": "stdout",
          "text": [
            "Soluciones del sistema:\n",
            "x1 = 10.0000\n",
            "x2 = 1.0000\n"
          ]
        }
      ]
    },
    {
      "cell_type": "markdown",
      "source": [
        "Elaborado por **Castillo Zaragoza Ximena Jacqueline**"
      ],
      "metadata": {
        "id": "LNRW-lyW2ve2"
      }
    }
  ]
}