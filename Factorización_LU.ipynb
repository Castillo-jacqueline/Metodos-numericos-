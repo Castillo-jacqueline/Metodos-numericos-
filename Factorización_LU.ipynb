{
  "nbformat": 4,
  "nbformat_minor": 0,
  "metadata": {
    "colab": {
      "provenance": [],
      "authorship_tag": "ABX9TyMSzHYpzE+iObFfgB2nIO7M",
      "include_colab_link": true
    },
    "kernelspec": {
      "name": "python3",
      "display_name": "Python 3"
    },
    "language_info": {
      "name": "python"
    }
  },
  "cells": [
    {
      "cell_type": "markdown",
      "metadata": {
        "id": "view-in-github",
        "colab_type": "text"
      },
      "source": [
        "<a href=\"https://colab.research.google.com/github/Castillo-jacqueline/Metodos-numericos-/blob/main/Factorizaci%C3%B3n_LU.ipynb\" target=\"_parent\"><img src=\"https://colab.research.google.com/assets/colab-badge.svg\" alt=\"Open In Colab\"/></a>"
      ]
    },
    {
      "cell_type": "code",
      "execution_count": 1,
      "metadata": {
        "id": "zIbuERIU01N4",
        "outputId": "20f60bc6-9fa3-4a92-d050-b6c1aa2bc4c6",
        "colab": {
          "base_uri": "https://localhost:8080/"
        }
      },
      "outputs": [
        {
          "output_type": "stream",
          "name": "stdout",
          "text": [
            "Matriz A:\n",
            "[[ 1.  1.  0.  3.]\n",
            " [ 2.  1. -1.  1.]\n",
            " [ 3. -1. -1.  2.]\n",
            " [-1.  2.  3. -1.]]\n",
            "\n",
            "Matriz L (triangular inferior):\n",
            "[[ 1.  0.  0.  0.]\n",
            " [ 2.  1.  0.  0.]\n",
            " [ 3.  4.  1.  0.]\n",
            " [-1. -3.  0.  1.]]\n",
            "\n",
            "Matriz U (triangular superior):\n",
            "[[  1.   1.   0.   3.]\n",
            " [  0.  -1.  -1.  -5.]\n",
            " [  0.   0.   3.  13.]\n",
            " [  0.   0.   0. -13.]]\n",
            "\n",
            "Reconstrucción de A (L * U):\n",
            "[[ 1.  1.  0.  3.]\n",
            " [ 2.  1. -1.  1.]\n",
            " [ 3. -1. -1.  2.]\n",
            " [-1.  2.  3. -1.]]\n",
            "\n",
            "La factorización LU es correcta.\n"
          ]
        }
      ],
      "source": [
        "import numpy as np\n",
        "\n",
        "def factorizacion_LU(A):\n",
        "    \"\"\"\n",
        "    Realiza la factorización LU de una matriz cuadrada A.\n",
        "    La matriz A se descompone en A = L * U, donde:\n",
        "    - L es una matriz triangular inferior (con 1s en la diagonal principal).\n",
        "    - U es una matriz triangular superior.\n",
        "\n",
        "    Parámetros:\n",
        "    A (numpy.ndarray): Matriz cuadrada de tamaño nxn.\n",
        "\n",
        "    Retorna:\n",
        "    L (numpy.ndarray): Matriz triangular inferior.\n",
        "    U (numpy.ndarray): Matriz triangular superior.\n",
        "    \"\"\"\n",
        "    n = A.shape[0]  # Tamaño de la matriz\n",
        "    L = np.eye(n)   # Inicializamos L como matriz identidad\n",
        "    U = A.copy()    # Copia de A para modificarla y obtener U\n",
        "\n",
        "    for i in range(n):\n",
        "        # Verificar si el pivote es cero para evitar división por cero\n",
        "        if U[i, i] == 0:\n",
        "            raise ValueError(\"El pivote es cero. Reordenar filas para continuar.\")\n",
        "\n",
        "        for j in range(i+1, n):\n",
        "            # Calculamos el multiplicador\n",
        "            factor = U[j, i] / U[i, i]\n",
        "            L[j, i] = factor  # Guardamos el multiplicador en L\n",
        "            # Restamos el múltiplo de la fila i de U a la fila j de U\n",
        "            U[j, i:] -= factor * U[i, i:]\n",
        "\n",
        "    return L, U\n",
        "\n",
        "# Definimos la matriz de prueba\n",
        "A = np.array([\n",
        "    [1, 1, 0, 3],\n",
        "    [2, 1, -1, 1],\n",
        "    [3, -1, -1, 2],\n",
        "    [-1, 2, 3, -1]\n",
        "], dtype=float)\n",
        "\n",
        "# Aplicamos la factorización LU\n",
        "L, U = factorizacion_LU(A)\n",
        "\n",
        "# Verificamos el resultado\n",
        "reconstruida = np.dot(L, U)\n",
        "\n",
        "# Mostramos los resultados\n",
        "print(\"Matriz A:\")\n",
        "print(A)\n",
        "print(\"\\nMatriz L (triangular inferior):\")\n",
        "print(L)\n",
        "print(\"\\nMatriz U (triangular superior):\")\n",
        "print(U)\n",
        "print(\"\\nReconstrucción de A (L * U):\")\n",
        "print(reconstruida)\n",
        "\n",
        "# Comprobamos si la matriz reconstruida es igual a la original\n",
        "if np.allclose(A, reconstruida):\n",
        "    print(\"\\nLa factorización LU es correcta.\")\n",
        "else:\n",
        "    print(\"\\nLa factorización LU es incorrecta.\")"
      ]
    }
  ]
}