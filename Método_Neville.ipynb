{
  "nbformat": 4,
  "nbformat_minor": 0,
  "metadata": {
    "colab": {
      "provenance": [],
      "authorship_tag": "ABX9TyPkSHR6+7at5CAfDk6wgJR0",
      "include_colab_link": true
    },
    "kernelspec": {
      "name": "python3",
      "display_name": "Python 3"
    },
    "language_info": {
      "name": "python"
    }
  },
  "cells": [
    {
      "cell_type": "markdown",
      "metadata": {
        "id": "view-in-github",
        "colab_type": "text"
      },
      "source": [
        "<a href=\"https://colab.research.google.com/github/Castillo-jacqueline/Metodos-numericos-/blob/main/M%C3%A9todo_Neville.ipynb\" target=\"_parent\"><img src=\"https://colab.research.google.com/assets/colab-badge.svg\" alt=\"Open In Colab\"/></a>"
      ]
    },
    {
      "cell_type": "code",
      "execution_count": 13,
      "metadata": {
        "id": "pYBSer3Row7t"
      },
      "outputs": [],
      "source": [
        "\n",
        "#utilizamos la librería de python\n",
        "import numpy as np"
      ]
    },
    {
      "cell_type": "code",
      "source": [
        "#Definimos la función\n",
        "def metodo_neville(x_dato, x, f):\n",
        "    \"\"\"\n",
        "    Implementa el método de Neville para calcular el polinomio interpolante.\n",
        "    Args:\n",
        "        x_dato: Valor de x donde se quiere evaluar el polinomio.\n",
        "        x: Lista de nodos x0, x1, ..., xn.\n",
        "        f: Lista de valores f(x0), f(x1), ..., f(xn).\n",
        "    Returns:\n",
        "        Aproximación del polinomio P(x_dato) y la tabla Q.\n",
        "    \"\"\"\n",
        "    n = len(x)\n",
        "    # Crear tabla Q y copiar los valores iniciales de f en la primera columna\n",
        "    Q = np.zeros((n, n))\n",
        "    for i in range(n):\n",
        "        Q[i, 0] = f[i]\n",
        "\n",
        "    # Aplicar el método de Neville\n",
        "    for i in range(1, n):\n",
        "        for j in range(1, i + 1):\n",
        "            Q[i, j] = ((x_dato - x[i - j]) * Q[i, j - 1] - (x_dato - x[i]) * Q[i - 1, j - 1]) / (x[i] - x[i - j])\n",
        "\n",
        "    # El valor de P(x_dato) está en Q[n-1, n-1]\n",
        "    return Q[n-1, n-1], Q\n",
        "\n",
        "# Datos del ejemplo 2\n",
        "x = [1.0, 1.3, 1.6, 1.9, 2.2]\n",
        "f = [0.7651977, 0.6200860, 0.4554022, 0.2818186, 0.1103623]\n",
        "x_dato = 1.5\n",
        "\n",
        "# Ejecutar el método de Neville\n",
        "resultado, tabla_Q = metodo_neville(x_dato, x, f)\n",
        "\n",
        "# Mostrar resultados\n",
        "print(f\"El valor aproximado de f({x_dato}) es: {resultado}\")\n",
        "print(\"\\nTabla Q:\")\n",
        "print(tabla_Q)"
      ],
      "metadata": {
        "id": "VivI-44nqdCz",
        "outputId": "a31c8211-857a-41a7-96d9-f4c213d3f722",
        "colab": {
          "base_uri": "https://localhost:8080/"
        }
      },
      "execution_count": 14,
      "outputs": [
        {
          "output_type": "stream",
          "name": "stdout",
          "text": [
            "El valor aproximado de f(1.5) es: 0.5118199942386831\n",
            "\n",
            "Tabla Q:\n",
            "[[0.7651977  0.         0.         0.         0.        ]\n",
            " [0.620086   0.52334487 0.         0.         0.        ]\n",
            " [0.4554022  0.5102968  0.51247148 0.         0.        ]\n",
            " [0.2818186  0.5132634  0.51128567 0.51181269 0.        ]\n",
            " [0.1103623  0.510427   0.51373613 0.51183021 0.51181999]]\n"
          ]
        }
      ]
    },
    {
      "cell_type": "markdown",
      "source": [
        "Elaborado por Castillo Zaragoza Ximena Jacqueline"
      ],
      "metadata": {
        "id": "Zm-CH7QWq2N0"
      }
    }
  ]
}