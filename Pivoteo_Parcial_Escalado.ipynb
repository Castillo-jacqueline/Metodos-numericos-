{
  "nbformat": 4,
  "nbformat_minor": 0,
  "metadata": {
    "colab": {
      "provenance": [],
      "authorship_tag": "ABX9TyMjbd9wxEaeCYw/AHhrfOrh",
      "include_colab_link": true
    },
    "kernelspec": {
      "name": "python3",
      "display_name": "Python 3"
    },
    "language_info": {
      "name": "python"
    }
  },
  "cells": [
    {
      "cell_type": "markdown",
      "metadata": {
        "id": "view-in-github",
        "colab_type": "text"
      },
      "source": [
        "<a href=\"https://colab.research.google.com/github/Castillo-jacqueline/Metodos-numericos-/blob/main/Pivoteo_Parcial_Escalado.ipynb\" target=\"_parent\"><img src=\"https://colab.research.google.com/assets/colab-badge.svg\" alt=\"Open In Colab\"/></a>"
      ]
    },
    {
      "cell_type": "code",
      "source": [
        "\n",
        "#Utilizamos la librería\n",
        "import numpy as np"
      ],
      "metadata": {
        "id": "2_vYXrYdyl8f"
      },
      "execution_count": 26,
      "outputs": []
    },
    {
      "cell_type": "code",
      "source": [
        "#Definimos la función\n",
        "def redondear(val, digitos=3):\n",
        "    \"\"\"\n",
        "    Redondea un valor a 3 cifras significativas.\n",
        "    \"\"\"\n",
        "    if val == 0:\n",
        "        return 0\n",
        "    return round(val, digitos - int(np.floor(np.log10(abs(val)))) - 1)\n",
        "\n",
        "def gauss_pivoteo_parcial_escalado_redondeado(A, b):\n",
        "    \"\"\"\n",
        "    Implementa eliminación gaussiana con pivoteo parcial escalado y redondeo a 3 cifras.\n",
        "    \"\"\"\n",
        "    n = len(b)\n",
        "    s = np.max(np.abs(A), axis=1)  # Vector de escalamiento por filas\n",
        "    index = np.arange(n)\n",
        "\n",
        "    # Fase de eliminación\n",
        "    for k in range(n-1):\n",
        "        # Pivoteo parcial escalado\n",
        "        ratios = np.abs(A[index[k:], k] / s[index[k:]])\n",
        "        p = np.argmax(ratios) + k\n",
        "\n",
        "        # Intercambio de filas\n",
        "        if p != k:\n",
        "            index[k], index[p] = index[p], index[k]\n",
        "\n",
        "        # Eliminación gaussiana\n",
        "        for i in range(k+1, n):\n",
        "            m = redondear(A[index[i], k] / A[index[k], k])\n",
        "            for j in range(k, n):\n",
        "                A[index[i], j] = redondear(A[index[i], j] - redondear(m * A[index[k], j]))\n",
        "            b[index[i]] = redondear(b[index[i]] - redondear(m * b[index[k]]))\n",
        "\n",
        "    # Sustitución hacia atrás\n",
        "    x = np.zeros(n)\n",
        "    for i in range(n-1, -1, -1):\n",
        "        suma = np.dot(A[index[i], i+1:], x[i+1:])\n",
        "        x[i] = redondear((b[index[i]] - suma) / A[index[i], i])\n",
        "\n",
        "    return x\n",
        "\n",
        "# Tenemos el sistema de ecuaciones\n",
        "A = np.array([\n",
        "    [2.11, -4.21, 0.921],\n",
        "    [4.01, 10.2, -1.12],\n",
        "    [1.09, 0.987, 0.832]\n",
        "])\n",
        "\n",
        "b = np.array([2.01, -3.09, 4.21])\n",
        "\n",
        "# Llamar a la función\n",
        "solucion = gauss_pivoteo_parcial_escalado_redondeado(A.copy(), b.copy())\n",
        "\n",
        "# Imprimir resultados\n",
        "print(\"Solución del sistema:\")\n",
        "print(f\"x1 = {solucion[0]}, x2 = {solucion[1]}, x3 = {solucion[2]}\")"
      ],
      "metadata": {
        "colab": {
          "base_uri": "https://localhost:8080/"
        },
        "id": "76u5NyjLzK43",
        "outputId": "b6c1dfba-1dd7-4852-c1fa-e19631c5396a"
      },
      "execution_count": 27,
      "outputs": [
        {
          "output_type": "stream",
          "name": "stdout",
          "text": [
            "Solución del sistema:\n",
            "x1 = -0.435, x2 = 0.43, x3 = 5.12\n"
          ]
        }
      ]
    },
    {
      "cell_type": "markdown",
      "source": [
        "Elaborado por **Castillo Zaragoza Ximena Jacqueline**"
      ],
      "metadata": {
        "id": "dnoUWZxe0Eny"
      }
    }
  ]
}