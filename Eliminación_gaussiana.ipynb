{
  "nbformat": 4,
  "nbformat_minor": 0,
  "metadata": {
    "colab": {
      "provenance": [],
      "authorship_tag": "ABX9TyOp+uFz7zE5gmKZepKJrwYz",
      "include_colab_link": true
    },
    "kernelspec": {
      "name": "python3",
      "display_name": "Python 3"
    },
    "language_info": {
      "name": "python"
    }
  },
  "cells": [
    {
      "cell_type": "markdown",
      "metadata": {
        "id": "view-in-github",
        "colab_type": "text"
      },
      "source": [
        "<a href=\"https://colab.research.google.com/github/Castillo-jacqueline/Metodos-numericos-/blob/main/Eliminaci%C3%B3n_gaussiana.ipynb\" target=\"_parent\"><img src=\"https://colab.research.google.com/assets/colab-badge.svg\" alt=\"Open In Colab\"/></a>"
      ]
    },
    {
      "cell_type": "code",
      "execution_count": 6,
      "metadata": {
        "id": "zQN__-xgv1qx"
      },
      "outputs": [],
      "source": [
        "import numpy as np\n",
        "\n",
        "# Sistema de ecuaciones representado en forma de matriz aumentada\n",
        "A = np.array([\n",
        "    [1, -1, 2, -1, -8],   # E1: x1 - x2 + 2x3 - x4 = -8\n",
        "    [2, -2, 3, -3, -20],  # E2: 2x1 - 2x2 + 3x3 - 3x4 = -20\n",
        "    [1, 1, 1, 0, -2],     # E3: x1 + x2 + x3 = -2\n",
        "    [1, -1, 4, 3, 4]      # E4: x1 - x2 + 4x3 + 3x4 = 4\n",
        "], dtype=float)"
      ]
    },
    {
      "cell_type": "code",
      "source": [
        "# Función para realizar la eliminación gaussiana\n",
        "def gauss_elimination(A):\n",
        "    n = len(A)\n",
        "    for i in range(n):\n",
        "        # Pivoteo parcial (intercambiar filas si es necesario)\n",
        "        max_row = i + np.argmax(abs(A[i:, i]))\n",
        "        A[[i, max_row]] = A[[max_row, i]]\n",
        "\n",
        "        # Normalización del pivote\n",
        "        pivot = A[i, i]\n",
        "        if pivot == 0:\n",
        "            raise ValueError(\"El sistema no tiene solución única.\")\n",
        "        A[i] = A[i] / pivot\n",
        "\n",
        "        # Eliminación hacia adelante (hacer ceros debajo del pivote)\n",
        "        for j in range(i + 1, n):\n",
        "            factor = A[j, i]\n",
        "            A[j] -= factor * A[i]\n",
        "\n",
        "    return A\n",
        "\n",
        "# Función para realizar la sustitución hacia atrás\n",
        "def back_substitution(A):\n",
        "    n = len(A)\n",
        "    x = np.zeros(n)\n",
        "    # Sustitución hacia atrás desde la última fila\n",
        "    for i in range(n-1, -1, -1):\n",
        "        x[i] = A[i, -1] - np.sum(A[i, i+1:-1] * x[i+1:])\n",
        "    return x"
      ],
      "metadata": {
        "id": "1ka-cdHo0tKN"
      },
      "execution_count": 7,
      "outputs": []
    },
    {
      "cell_type": "code",
      "source": [
        "# Ejecutar eliminación gaussiana\n",
        "A_gauss = gauss_elimination(A)\n",
        "\n",
        "# Realizar sustitución hacia atrás para encontrar las soluciones\n",
        "sol = back_substitution(A_gauss)\n",
        "\n",
        "# Imprimir resultados\n",
        "print(\"Soluciones del sistema:\")\n",
        "for i, val in enumerate(sol):\n",
        "    print(f\"x{i+1} = {val:.2f}\")"
      ],
      "metadata": {
        "colab": {
          "base_uri": "https://localhost:8080/"
        },
        "id": "ri7nvMtu0xzE",
        "outputId": "0d7ec6f7-0657-4d9f-fa94-b781837529e1"
      },
      "execution_count": 8,
      "outputs": [
        {
          "output_type": "stream",
          "name": "stdout",
          "text": [
            "Soluciones del sistema:\n",
            "x1 = -7.00\n",
            "x2 = 3.00\n",
            "x3 = 2.00\n",
            "x4 = 2.00\n"
          ]
        }
      ]
    }
  ]
}